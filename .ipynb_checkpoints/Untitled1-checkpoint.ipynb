{
 "metadata": {
  "name": "",
  "signature": "sha256:4a272750e908ab35cce4218b4067d3f30c3babe177fbbb26f5f4d9ae9a1b14ca"
 },
 "nbformat": 3,
 "nbformat_minor": 0,
 "worksheets": [
  {
   "cells": [
    {
     "cell_type": "code",
     "collapsed": false,
     "input": [
      "!ls /home/ubuntu/shapefiles "
     ],
     "language": "python",
     "metadata": {},
     "outputs": [
      {
       "output_type": "stream",
       "stream": "stdout",
       "text": [
        "gadm2.dbf  gadm2.sbn  gadm2.shp  gadm_v2_shp.zip\r\n",
        "gadm2.prj  gadm2.sbx  gadm2.shx  read_me.pdf\r\n"
       ]
      }
     ],
     "prompt_number": 8
    },
    {
     "cell_type": "code",
     "collapsed": false,
     "input": [
      "\"\"\"\n",
      "Carlo Hamalainen <carlo.hamalainen@gmail.com>\n",
      " \n",
      "Given a directory of shapefiles, e.g.\n",
      " \n",
      "$ ls /path/to/shapefiles/\n",
      "Project_Name.dbf\n",
      "Project_Name.prj\n",
      "Project_Name.sbn\n",
      "Project_Name.sbx\n",
      "Project_Name.shp\n",
      "Project_Name.shp.xml\n",
      "Project_Name.shx\n",
      " \n",
      "draw a polygon for each shape based on some attribute (here, whether the\n",
      "'Status' is completed or in-progress.\n",
      "\"\"\"\n",
      " \n",
      "import matplotlib.pyplot as plt\n",
      "from mpl_toolkits.basemap import Basemap\n",
      "from matplotlib.patches import Polygon\n",
      " \n",
      "m = Basemap(llcrnrlon=130. ,llcrnrlat=-48, urcrnrlon=170. ,urcrnrlat=-10., resolution='h', area_thresh=10000)\n",
      " \n",
      "m.drawcoastlines()\n",
      "m.fillcontinents()\n",
      "m.drawcountries(linewidth=2)\n",
      "m.drawstates()\n",
      " \n",
      "m.drawmapboundary(fill_color='aqua')\n",
      " \n",
      "s = m.readshapefile('/home/ubuntu/shapefiles/gadm2', 'gadm2')\n",
      " \n",
      "for xy, info in zip(m.Project_Name, m.Project_Name_info):\n",
      "    if info['Status'] == 'Completed':\n",
      "        poly = Polygon(xy, facecolor='red', alpha=0.4)\n",
      "        plt.gca().add_patch(poly)\n",
      "    elif info['Status'] == 'in progress':\n",
      "        poly = Polygon(xy, facecolor='green', alpha=0.4)\n",
      "        plt.gca().add_patch(poly)\n",
      "    else:\n",
      "        print info['Status'] \n",
      " \n",
      "plt.legend()\n",
      "plt.show()"
     ],
     "language": "python",
     "metadata": {},
     "outputs": []
    },
    {
     "cell_type": "code",
     "collapsed": false,
     "input": [],
     "language": "python",
     "metadata": {},
     "outputs": []
    }
   ],
   "metadata": {}
  }
 ]
}