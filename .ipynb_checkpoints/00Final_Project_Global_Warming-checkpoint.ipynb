{
 "metadata": {
  "name": "",
  "signature": "sha256:606b079f03ff4e7e03625faeb757196bdba9725e46cc3ebecfd90899bde462d8"
 },
 "nbformat": 3,
 "nbformat_minor": 0,
 "worksheets": [
  {
   "cells": [
    {
     "cell_type": "code",
     "collapsed": false,
     "input": [],
     "language": "python",
     "metadata": {},
     "outputs": []
    }
   ],
   "metadata": {}
  }
 ]
}