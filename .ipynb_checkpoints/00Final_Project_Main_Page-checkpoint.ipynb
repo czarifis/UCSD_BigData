{
 "metadata": {
  "name": "",
  "signature": "sha256:2f3f6578b0a9081ea9a69d4e588f65ee9bd75cf54f57e6f48b6a07a7e236b13f"
 },
 "nbformat": 3,
 "nbformat_minor": 0,
 "worksheets": [
  {
   "cells": [
    {
     "cell_type": "heading",
     "level": 1,
     "metadata": {},
     "source": [
      "**Climate classification and Climate change**"
     ]
    },
    {
     "cell_type": "markdown",
     "metadata": {},
     "source": [
      "By Konstantinos Zarifis (Programmer), Panagiotis Vekris (Programmer), Jiapeng Zhang (Statistician) and Jiayi Wen (Story Teller)"
     ]
    },
    {
     "cell_type": "code",
     "collapsed": false,
     "input": [],
     "language": "python",
     "metadata": {},
     "outputs": []
    }
   ],
   "metadata": {}
  }
 ]
}