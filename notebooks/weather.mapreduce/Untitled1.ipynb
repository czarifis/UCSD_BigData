{
 "metadata": {
  "name": "",
  "signature": "sha256:5cfef8bb52babf0584e42f4e79f663f9f2b5b38e5481773f0c88a2afb6cbce7c"
 },
 "nbformat": 3,
 "nbformat_minor": 0,
 "worksheets": [
  {
   "cells": [
    {
     "cell_type": "code",
     "collapsed": false,
     "input": [
      "!ls /home/ubuntu/shapefiles "
     ],
     "language": "python",
     "metadata": {},
     "outputs": [
      {
       "output_type": "stream",
       "stream": "stdout",
       "text": [
        "gadm2.dbf  gadm2.prj  gadm2.sbn  gadm2.sbx  gadm2.shp  gadm2.shx  gadm_v2_shp.zip  read_me.pdf\r\n"
       ]
      }
     ],
     "prompt_number": 1
    },
    {
     "cell_type": "code",
     "collapsed": false,
     "input": [
      "\"\"\"\n",
      "Carlo Hamalainen <carlo.hamalainen@gmail.com>\n",
      " \n",
      "Given a directory of shapefiles, e.g.\n",
      " \n",
      "$ ls /path/to/shapefiles/\n",
      "Project_Name.dbf\n",
      "Project_Name.prj\n",
      "Project_Name.sbn\n",
      "Project_Name.sbx\n",
      "Project_Name.shp\n",
      "Project_Name.shp.xml\n",
      "Project_Name.shx\n",
      " \n",
      "draw a polygon for each shape based on some attribute (here, whether the\n",
      "'Status' is completed or in-progress.\n",
      "\"\"\"\n",
      " \n",
      "import matplotlib.pyplot as plt\n",
      "from mpl_toolkits.basemap import Basemap\n",
      "from matplotlib.patches import Polygon\n",
      " \n",
      "m = Basemap(llcrnrlon=130. ,llcrnrlat=-48, urcrnrlon=170. ,urcrnrlat=-10., resolution='h', area_thresh=10000)\n",
      " \n",
      "m.drawcoastlines()\n",
      "m.fillcontinents()\n",
      "m.drawcountries(linewidth=2)\n",
      "m.drawstates()\n",
      " \n",
      "m.drawmapboundary(fill_color='aqua')\n",
      " \n",
      "s = m.readshapefile('/home/ubuntu/shapefiles/USA/USA_adm2', 'gadm2')\n",
      " \n",
      "for xy, info in zip(m.Project_Name, m.Project_Name_info):\n",
      "    if info['Status'] == 'Completed':\n",
      "        poly = Polygon(xy, facecolor='red', alpha=0.4)\n",
      "        plt.gca().add_patch(poly)\n",
      "    elif info['Status'] == 'in progress':\n",
      "        poly = Polygon(xy, facecolor='green', alpha=0.4)\n",
      "        plt.gca().add_patch(poly)\n",
      "    else:\n",
      "        print info['Status'] \n",
      " \n",
      "plt.legend()\n",
      "plt.show()"
     ],
     "language": "python",
     "metadata": {},
     "outputs": [
      {
       "ename": "AttributeError",
       "evalue": "'Basemap' object has no attribute 'Project_Name'",
       "output_type": "pyerr",
       "traceback": [
        "\u001b[1;31m---------------------------------------------------------------------------\u001b[0m\n\u001b[1;31mAttributeError\u001b[0m                            Traceback (most recent call last)",
        "\u001b[1;32m<ipython-input-1-5e3192470d95>\u001b[0m in \u001b[0;36m<module>\u001b[1;34m()\u001b[0m\n\u001b[0;32m     32\u001b[0m \u001b[0ms\u001b[0m \u001b[1;33m=\u001b[0m \u001b[0mm\u001b[0m\u001b[1;33m.\u001b[0m\u001b[0mreadshapefile\u001b[0m\u001b[1;33m(\u001b[0m\u001b[1;34m'/home/ubuntu/shapefiles/USA/USA_adm2'\u001b[0m\u001b[1;33m,\u001b[0m \u001b[1;34m'gadm2'\u001b[0m\u001b[1;33m)\u001b[0m\u001b[1;33m\u001b[0m\u001b[0m\n\u001b[0;32m     33\u001b[0m \u001b[1;33m\u001b[0m\u001b[0m\n\u001b[1;32m---> 34\u001b[1;33m \u001b[1;32mfor\u001b[0m \u001b[0mxy\u001b[0m\u001b[1;33m,\u001b[0m \u001b[0minfo\u001b[0m \u001b[1;32min\u001b[0m \u001b[0mzip\u001b[0m\u001b[1;33m(\u001b[0m\u001b[0mm\u001b[0m\u001b[1;33m.\u001b[0m\u001b[0mProject_Name\u001b[0m\u001b[1;33m,\u001b[0m \u001b[0mm\u001b[0m\u001b[1;33m.\u001b[0m\u001b[0mProject_Name_info\u001b[0m\u001b[1;33m)\u001b[0m\u001b[1;33m:\u001b[0m\u001b[1;33m\u001b[0m\u001b[0m\n\u001b[0m\u001b[0;32m     35\u001b[0m     \u001b[1;32mif\u001b[0m \u001b[0minfo\u001b[0m\u001b[1;33m[\u001b[0m\u001b[1;34m'Status'\u001b[0m\u001b[1;33m]\u001b[0m \u001b[1;33m==\u001b[0m \u001b[1;34m'Completed'\u001b[0m\u001b[1;33m:\u001b[0m\u001b[1;33m\u001b[0m\u001b[0m\n\u001b[0;32m     36\u001b[0m         \u001b[0mpoly\u001b[0m \u001b[1;33m=\u001b[0m \u001b[0mPolygon\u001b[0m\u001b[1;33m(\u001b[0m\u001b[0mxy\u001b[0m\u001b[1;33m,\u001b[0m \u001b[0mfacecolor\u001b[0m\u001b[1;33m=\u001b[0m\u001b[1;34m'red'\u001b[0m\u001b[1;33m,\u001b[0m \u001b[0malpha\u001b[0m\u001b[1;33m=\u001b[0m\u001b[1;36m0.4\u001b[0m\u001b[1;33m)\u001b[0m\u001b[1;33m\u001b[0m\u001b[0m\n",
        "\u001b[1;31mAttributeError\u001b[0m: 'Basemap' object has no attribute 'Project_Name'"
       ]
      },
      {
       "metadata": {},
       "output_type": "display_data",
       "png": "[encoded data removed]",
       "text": [
        "<matplotlib.figure.Figure at 0x25fc5d0>"
       ]
      }
     ],
     "prompt_number": 1
    },
    {
     "cell_type": "code",
     "collapsed": false,
     "input": [],
     "language": "python",
     "metadata": {},
     "outputs": []
    }
   ],
   "metadata": {}
  }
 ]
}