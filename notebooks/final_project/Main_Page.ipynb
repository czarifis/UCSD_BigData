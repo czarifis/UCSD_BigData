{
 "metadata": {
  "name": "",
  "signature": "sha256:775a682f42d558ea2e2fab7e00ba11fe7d9f3a3bdbf9a69bf9c423f5bd17f4e8"
 },
 "nbformat": 3,
 "nbformat_minor": 0,
 "worksheets": [
  {
   "cells": [
    {
     "cell_type": "heading",
     "level": 1,
     "metadata": {},
     "source": [
      "**Climate Classification and Climate Change**"
     ]
    },
    {
     "cell_type": "markdown",
     "metadata": {},
     "source": [
      "By **Konstantinos Zarifis** (Programmer), **Panagiotis Vekris** (Programmer), **Jiapeng Zhang** (Statistician) and **Jiayi Wen** (Story Teller)"
     ]
    },
    {
     "cell_type": "heading",
     "level": 1,
     "metadata": {},
     "source": [
      "I. Introduction"
     ]
    },
    {
     "cell_type": "markdown",
     "metadata": {},
     "source": [
      "Climate is an excellent subject to study using big data. \"Weather is the original big data problem.\" said Bryson Koeler, who is the CIO Weather Channel in 2013. Two of the most classic and important topics in meteorology are **climate classification** and **climate change**. In this project, we will focus on these two topic."
     ]
    },
    {
     "cell_type": "heading",
     "level": 2,
     "metadata": {},
     "source": [
      "I.1 Climatic Classification"
     ]
    },
    {
     "cell_type": "markdown",
     "metadata": {},
     "source": [
      "Climatic classification systems are ways of classifying the world's climate. A \n",
      "climatic classification may have a direct correlation to biology, as climatic conditions\n",
      "majorly influence life within a region. The weather patterns vary significantly around \n",
      "the entire globe, for example, regions within the US, such as San Diego CA, Flagstaff\n",
      "AZ, New York NY and Miami FL have huge differences in their climatic patterns. More precisely,\n",
      "the weather in San Diego is considered dry, summers are warm and Winters are mild, in\n",
      "contrast, New York is very humid but has extremely hot Summers and extremely cold Winters.\n",
      "It would be very interesting if we could use the provided data to capture different weather\n",
      "patterns and classify the climatic conditions of each region in a representative manner. \n",
      "In literature, there are 2 famous weather classifications, **K\u00f6ppen climate classification** \n",
      "and **Holdridge life zones system**."
     ]
    },
    {
     "cell_type": "markdown",
     "metadata": {},
     "source": [
      "###K\u00f6ppen climate classification\n",
      "\n",
      "K\u00f6ppen climate classification is the most widely used system based on temperatures and precipitation. Mainly, it classifies the climate into 5 big groups: A. tropical humid climates, B. dry climates, C. mild climates, D. severe midatitude climates and E. polar climates. First figure shows this classification. It also, includes a more precise way of partitions in more groups. For more details, please check http://en.wikipedia.org/wiki/K%C3%B6ppen_climate_classification"
     ]
    },
    {
     "cell_type": "markdown",
     "metadata": {},
     "source": [
      "###Life Zone Classification\n",
      "\n",
      "Besides the well-known K\u00f6ppen climate classification, Life Zone Classification system is based on the latitude, elevation and humidity (check the second picture). We will be using K-means clustering algorithm to approximate the Life Zone Classification.\n",
      "\n",
      "![Bilby Stampede](http://upload.wikimedia.org/wikipedia/commons/thumb/b/bb/Koppen_World_Map_%28retouched_version%29.png/1024px-Koppen_World_Map_%28retouched_version%29.png)\n",
      "\n",
      "![Bilby Stampede](http://upload.wikimedia.org/wikipedia/commons/thumb/c/cb/Lifezones_Pengo.svg/987px-Lifezones_Pengo.svg.png)"
     ]
    },
    {
     "cell_type": "heading",
     "level": 2,
     "metadata": {},
     "source": [
      "I.2 Methods of classication"
     ]
    },
    {
     "cell_type": "markdown",
     "metadata": {},
     "source": [
      "The methods of classification that we studied are the following:\n",
      " \n",
      " * *k-d-tree based classification*: splitting the world into rectangular areas with an underlying hierarchical indexing structure \n",
      " * *K-mean clustering*: approaching life zone classification using the k-means algorithm."
     ]
    },
    {
     "cell_type": "markdown",
     "metadata": {},
     "source": [
      "It's obvious that the k-means classification was able to perform better than the actual dataset. The reason is that the dataset we used to figure out in which partition each station belongs to was not in a very high resolution so the mapping is not very precise. \n",
      "\n",
      "\n",
      "The implementation that generated this last basemap can be found here:\n",
      "\n",
      "http://nbviewer.ipython.org/github/czarifis/UCSD_BigData/blob/master/notebooks/Jiayi/CostasK%C3%B6ppenPartition.ipynb\n"
     ]
    },
    {
     "cell_type": "heading",
     "level": 2,
     "metadata": {},
     "source": [
      "I.3 Climate Change"
     ]
    },
    {
     "cell_type": "markdown",
     "metadata": {},
     "source": [
      "Another interesting subject in meteorology is climate change. One of the hottest topic regarding climate change is obviously global warming. Scientist claims that the temperature is increasing continously in the latest 100 years. Using this dataset, we can capture this phenomenon. We will study the mean temperature of the whole world for the last 100 years. Besides that, we are also investigating the trend of the temperature difference and the average precipitation. In order to show global warming, we are monitoring the average temperature of one year and 10 years correspondingly, we can easily see that the temperture is increasing. Here is a quickshot of the station in Germany, specifically in **BAMBERG**. Clearly, in this station, we can see that the temperature is increasing, especially from 1980s. We will cover this subject thoroughly in Section 3, where we will include the results for more individual basestations and also bigger regions with basestations grouped together."
     ]
    },
    {
     "cell_type": "markdown",
     "metadata": {},
     "source": [
      "<img src=\"https://db.tt/gTV2cV1C\">\n",
      "<img src=\"https://db.tt/6Xu6Mv9V\">"
     ]
    },
    {
     "cell_type": "heading",
     "level": 1,
     "metadata": {},
     "source": [
      "**II. Climate Classification**"
     ]
    },
    {
     "cell_type": "heading",
     "level": 2,
     "metadata": {},
     "source": [
      "II.1 K-d-tree based partitioning"
     ]
    },
    {
     "cell_type": "markdown",
     "metadata": {},
     "source": [
      "### Building the Hierarchical Partitioning\n",
      "\n",
      "In this section we experiment with the idea of partitioning the globe into rectangle \n",
      "shaped groups, based on a hierarchical partitioning (*k-d-tree*). The main invariant we wish to \n",
      "accomplish is that siblings (in our case **rectangle** areas) are close to each other \n",
      "and leaves have a similar \"weight\". Weight of an area in our case is the the total number \n",
      "of lines data that we have for stations in that area.\n",
      "\n",
      "To achieve this partitioning:\n",
      " * We first divide the original area into two rectangle areas, such that the weight\n",
      "   in each area are roughly the same.\n",
      " * Then we descend into each one of these areas and perform the same thing recursively.\n",
      " * In each iteration we alternate the direction in which we do the split (i.e. longitude \n",
      "   and latitude)\n",
      "\n",
      "This process results in the partitioning of the world in rectangles of about the same\n",
      "total weight.\n",
      "\n",
      "After experimenting with the method in the second homework, however, we ended up with \n",
      "areas (leaves in the hierarchical partitioning) that we oddly shapped - wide rectangles \n",
      "that encompassed areas of the world that would have very diverse climate, for example \n",
      "would span from Australia to southern Africa. To remedy this, we decided to perform a \n",
      "*preliminary partitioning* of the world into areas of fixed width (we experimented with \n",
      "squared shaped areas mostly). Here is an example of how this preliminary partitioning \n",
      "looks like:\n",
      "\n",
      "![preliminary partition](https://dl.dropboxusercontent.com/u/15585964/BigDataReportImages/prelim.png \"Partition\")\n",
      "\n",
      "Areas for which we had no or very little data have been excluded, hence the blank areas on \n",
      "the map.\n",
      "\n",
      "Once this preliminary partitioning was fixed, we ran the k-d-tree algorithm, explained \n",
      "earlier, on each one of these areas. Note at this point that the main invariant that we \n",
      "started off with, namely that the leaf nodes need to have about the same weight, does not\n",
      "necessarily hold now. Indeed you would expect a fixed size area in the U.S. to be much \n",
      "*heavier* than an area in the Sahara. Therefore, we tried to carefully pick the level to \n",
      "which we would run the k-d-tree algorithm in each one of these areas. To that end, the level \n",
      "for each area is proportional to the logarithm of its weight. Therefore, we would expect \n",
      "finer partitioning in the U.S than the Sahara, for example. Here is what this partioning \n",
      "looks like:\n",
      "\n",
      "\n",
      "![preliminary partition](https://dl.dropboxusercontent.com/u/15585964/BigDataReportImages/allgroups.png \"Partition\")\n",
      "\n",
      "### Computing covariance per group\n",
      "\n",
      "Based on the partitioning of the world map explained above, we compute the covariance \n",
      "matrices for the measure of interest (for example maximum temperature - `TMAX`). We use \n",
      "*MapReduce* for this part:\n",
      " \n",
      " * The *mapper* maps data that belong to the same group together\n",
      " * The *reducer* gathers all that data and computes the covariance matrix based on the \n",
      "   method detailed in the first homework.\n",
      " * We save all output covariance matrices on S3 to be used later from our EC2 instance.\n",
      "\n",
      "\n",
      "### Computing the eigenvectors\n",
      "\n",
      "Having the covariance matrices and the mean vectors for each area, we can compute the \n",
      "eigenvectors (by doing PCA through SVD) and recostruct any information if needed.\n",
      "Each recostruction \n",
      "can use any number of eigenvectors, but the amount of variance that it will be able to \n",
      "explain may vary. Ideally we would like to be able to store as few eigenvectors as \n",
      "possible but explain the same (or more variance).\n",
      "\n",
      "This process was studied extensively in homework 1, so it ommitted here.\n",
      "\n",
      "\n",
      "### Merging of georgraphic areas\n",
      "\n",
      "So the goal of this method is to be able to successively merge geographic groups together\n",
      "in a way that the total space needed to explain the same variance is smaller. Our heuristic \n",
      "for space efficiency is based on the *Minimum Description Length* (*MDL*) criterion. Put\n",
      "simply: given a list of neighboring groups on the map we want to decide wether it makes \n",
      "sense to merge these groups or not.\n",
      "\n",
      "\n",
      "In particular: suppose we are investigating wether it is worth merging groups $G_1$ and\n",
      "$G_2$. Group $G_1$ ($G_2$) contains $n_1$ ($n_2$) measurements and\n",
      "requires $k_1$ ($k_2$) vectors to reach $85\\%$ of the variance, for example. The combined \n",
      "region contains $n_3 = n_1 + n_2$ measurements and requires $k_3$ vectors to reach $85\\%$ \n",
      "of the variance. $k_3$ is computed by first computing the covariance matrix for the merged \n",
      "region and then doing PCA.\n",
      "\n",
      "The final form of the citerion is the following:\n",
      "\n",
      "$$n_1 * k_1 + (k_1 + 1) * 365 + n_2 * k_2 + (k_2 + 1) * 365 > n_3 * k_3 + (k_3 + 1) * 365 $$\n",
      "\n",
      "This condition expresses our goal to move towards better representation of data in terms \n",
      "of space requirements. The break-down of these terms is:\n",
      "* $n_i * k_i$: size of the eigenvector coefficients\n",
      "* $(k_i+1) \\cdot 365$: size of the eigenvectors and mean value\n",
      "\n",
      "This process continues as long as we can find pairs of neighboring areas that satisfy the \n",
      "criterion."
     ]
    },
    {
     "cell_type": "heading",
     "level": 3,
     "metadata": {},
     "source": [
      "Main results of running the algorithm"
     ]
    },
    {
     "cell_type": "markdown",
     "metadata": {},
     "source": [
      "We are computing statistics around the max temperature over all years.\n",
      "\n",
      "The initial partitioning using the above procedure was the following:\n",
      "\n",
      "![initial partition](https://dl.dropboxusercontent.com/u/15585964/BigDataReportImages/grouped2beforeIt1.png)"
     ]
    },
    {
     "cell_type": "markdown",
     "metadata": {},
     "source": [
      "After 8 iterations of merging neighboring groups, we ended up with the following partitioning:\n",
      "![final partition](https://dl.dropboxusercontent.com/u/15585964/BigDataReportImages/groupedlast.png)\n",
      "\n",
      "In the above, rectangles with the same color are groups that have been merged."
     ]
    },
    {
     "cell_type": "markdown",
     "metadata": {},
     "source": [
      "The implementation and more results can be found here:\n",
      "\n",
      "http://nbviewer.ipython.org/github/panagosg7/UCSD_BigData/blob/master/notebooks/final_project/PCA%20on%20K-D-tree%20structure.ipynb"
     ]
    },
    {
     "cell_type": "heading",
     "level": 2,
     "metadata": {},
     "source": [
      "II.2 K-means clustering"
     ]
    },
    {
     "cell_type": "markdown",
     "metadata": {},
     "source": [
      "Apart from the above procedure we also used K-means to classify the climate. We consider that each station is described by a point inside a 5-dimentional space. The 5 dimention are representing:\n",
      "1. Mean temperature over the year\n",
      "2. Temperature difference\n",
      "3. Latitude\n",
      "4. Elevation\n",
      "5. Average precipitation over the year\n",
      "\n",
      "Here is a quickview of our result of k-means clustering using ten groups of the whole world. "
     ]
    },
    {
     "cell_type": "markdown",
     "metadata": {},
     "source": [
      "<img src=\"https://dl.dropboxusercontent.com/u/13707240/I.KM5-10-world.png\">"
     ]
    },
    {
     "cell_type": "markdown",
     "metadata": {},
     "source": [
      "Especially in US part, it is very close to the K\u00f6ppen climate classification. Let's have a close look at this classification result."
     ]
    },
    {
     "cell_type": "markdown",
     "metadata": {},
     "source": [
      "<img src=\"https://db.tt/LGeO5Esm\">"
     ]
    },
    {
     "cell_type": "markdown",
     "metadata": {},
     "source": [
      "For comparison, below is the Koppen classification for the same area."
     ]
    },
    {
     "cell_type": "markdown",
     "metadata": {},
     "source": [
      "<img src=\"https://db.tt/UHfKRCc0\" width=\"60%\" height=\"60%\">"
     ]
    },
    {
     "cell_type": "markdown",
     "metadata": {},
     "source": [
      "We can see that the K-means clustering correctly classifies the highly recognizable climate types, especially near the ocean and at regions with high elevation. For example in Florida US, North California/South California, and mid-weast part of US with complicated topography. However, we can see some differences in regions like Texas and New york/Boston. The fact that both these analyses converge to similar results prove that this kind of partition is in fact expected to be a good candidate for out classification."
     ]
    },
    {
     "cell_type": "markdown",
     "metadata": {},
     "source": [
      "More information, including code and more results can be found in the K-means notebook:\n",
      "\n",
      "http://nbviewer.ipython.org/github/czarifis/UCSD_BigData/blob/master/notebooks/weather.mapreduce/00Final_Project_Kmeans.ipynb"
     ]
    },
    {
     "cell_type": "heading",
     "level": 2,
     "metadata": {},
     "source": [
      "II.3 K\u00f6ppen classification from online database"
     ]
    },
    {
     "cell_type": "markdown",
     "metadata": {},
     "source": [
      "As a last part of our classification survey, we used an online database that describes the\n",
      "K\u00f6ppen climate classification (http://koeppen-geiger.vu-wien.ac.at/present.htm) for each\n",
      "region and we joined it with the locations of the base-stations we have and this is the \n",
      "image we got:\n",
      "\n",
      "![Bilby Stampede](https://dl.dropboxusercontent.com/u/15585964/BigDataReportImages/K%C3%B6ppen%20climate.png)\n",
      "\n",
      "Compare this with the original K\u00f6ppen climate classification. Because the dataset was too sparse we were not \n",
      "able to get satisfactory results.\n",
      "\n",
      "The implementation and more results can be found in this notebook:\n",
      "\n",
      "http://nbviewer.ipython.org/github/czarifis/UCSD_BigData/blob/master/notebooks/Jiayi/CostasK%C3%B6ppenPartition.ipynb"
     ]
    },
    {
     "cell_type": "heading",
     "level": 2,
     "metadata": {},
     "source": [
      "II.4. Comparison of explained variance"
     ]
    },
    {
     "cell_type": "markdown",
     "metadata": {},
     "source": [
      "Finally, we include a rough comparison of the explained variance graphs we gathered from two of the methods \n",
      "outlined above, for experiments we ran on maximum temperature (`TMAX`):"
     ]
    },
    {
     "cell_type": "markdown",
     "metadata": {},
     "source": [
      "### Koppen classification\n",
      "\n",
      "![koppen](https://dl.dropboxusercontent.com/u/13707240/exp_var1.png)"
     ]
    },
    {
     "cell_type": "markdown",
     "metadata": {},
     "source": [
      "## k-d-tree partitioning"
     ]
    },
    {
     "cell_type": "markdown",
     "metadata": {},
     "source": [
      "Before merging leaves:\n",
      "![kd2](https://dl.dropboxusercontent.com/u/13707240/exp_var_first.png)\n",
      "\n",
      "After merging leaves:\n",
      "![kd](https://dl.dropboxusercontent.com/u/13707240/exp_var_end.png)\n",
      "\n",
      "Some groups are actually able to use less eigenvector to explain 85% of variance."
     ]
    },
    {
     "cell_type": "markdown",
     "metadata": {},
     "source": [
      "It seems that the Koppen partitioning works slightly better because it is a more \n",
      "climatologically informed partitioning rather than just a partitioning based on the weight \n",
      "of regions."
     ]
    },
    {
     "cell_type": "heading",
     "level": 1,
     "metadata": {},
     "source": [
      "**III. Climate Change**"
     ]
    },
    {
     "cell_type": "markdown",
     "metadata": {},
     "source": [
      "In this section, we want to show that there is global warming based on the data set we are using. Moreover, we are also trying to check the change of difference of the average temperature over the year and the change of the average precipitation. First we pick 5 stations with a lot of years measurement, and then we study it globally.\n",
      "\n",
      "First we pick this 5 station:\n",
      "\n",
      "1. ASN00039039, in Australia\n",
      "2. CA001100120, in Canada\n",
      "3. ITE00100554, in Italy\n",
      "4. USC00046074, in USA\n",
      "5. GM000004063, in Germany\n",
      "\n",
      "So we have stations in America, in Australia and in Europe. We only select stations with more than 100 years useful measurements (more than 300 TMIN, TMAX and PRCP in each year), then it's sufficient to study global warming for each stations. Following figure shows:\n",
      "\n",
      "1. Change of mean temperature over 20 century\n",
      "2. Change of 10 years mean temperature\n",
      "3. Change of difference of temperature\n",
      "4. Change of mean precipitation\n",
      "\n",
      "Pictures in one row are the result for the same station, there are 5 rows, each one is corresponding to one of the 5 stations. From the picture, we have following observations:\n",
      "\n",
      "1. Global warming is happening in all 5 stations over 20 century. (no matter Northern or Southern Hemisphere)\n",
      "2. Expecially, the temperature is increasing dramatically in this 2 decades (1990-2010)\n",
      "3. Difference of the temperature is flucuating, 4 of them are overall decreasing.\n",
      "4. Mean precipitation is just flucuating near a stable constant."
     ]
    },
    {
     "cell_type": "markdown",
     "metadata": {},
     "source": [
      "<img src=\"https://db.tt/cfn7E5nM\">"
     ]
    },
    {
     "cell_type": "markdown",
     "metadata": {},
     "source": [
      "Moreover, we want to study global warming globally. We select 801 stations with over 100 years useful measurements, and study the mean temperature each year over all these stations (most of 85000 stations have not sufficient measurement to study global warming). Following picture shows the location of these stations. They are mainly located at America and Europe.\n",
      "\n",
      "<img src=\"https://db.tt/ku7Tc3Zy\">"
     ]
    },
    {
     "cell_type": "markdown",
     "metadata": {},
     "source": [
      "In following figure, we can see the global warming is not just happening in the 5 stations we mentioned above, it actually occurs globally. (Otherwise we would not call it 'global' warming right....). However, we can see that the figure of 10 years average does not show clearly the temperature increase, not as we showed for these 5 stations. The reason is that these 5 stations are near the city, and all 801 stations will include a lot stations which isn't located near city (some of them are in the snow mountain...) \n",
      "\n",
      "<img src=\"https://db.tt/c2AZ9pzG\">\n",
      "<img src=\"https://db.tt/mEw0O43x\">"
     ]
    },
    {
     "cell_type": "markdown",
     "metadata": {},
     "source": [
      "For more details check: http://nbviewer.ipython.org/github/czarifis/UCSD_BigData/blob/master/notebooks/weather.mapreduce/00Final_Project_Global_Warming.ipynb"
     ]
    },
    {
     "cell_type": "heading",
     "level": 1,
     "metadata": {},
     "source": [
      "IV. References"
     ]
    },
    {
     "cell_type": "markdown",
     "metadata": {},
     "source": [
      "Understanding Weather and Climate (6th Edition) by by Edward Aguado , James E. Burt"
     ]
    }
   ],
   "metadata": {}
  }
 ]
}